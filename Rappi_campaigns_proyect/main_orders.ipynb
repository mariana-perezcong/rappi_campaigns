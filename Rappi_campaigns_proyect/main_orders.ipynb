{
  "cells": [
    {
      "cell_type": "code",
      "execution_count": 1,
      "metadata": {
        "collapsed": true,
        "pycharm": {
          "is_executing": false
        }
      },
      "outputs": [],
      "source": "import pandas as pd"
    },
    {
      "cell_type": "code",
      "execution_count": 2,
      "outputs": [],
      "source": "#orders \u003d pd.read_csv(\u0027/Users/icaboalo/Documents/CMU/Projects/FirstProject/orders_month.csv\u0027, chunksize\u003d500000)\norders \u003d pd.read_csv(\u0027/Users/icaboalo/Desktop/orders_month.csv\u0027, chunksize\u003d500000)  \n#orders.columns\u003d[\u0027ID\u0027,\u0027APPLICATION_USER_ID\u0027,\u0027STATE\u0027,\u0027PAYMENT_METHOD\u0027,\u0027TOTAL_VALUE\u0027,\u0027TIP\u0027,\u0027ADDRESS_ID\u0027,\u0027ADDRESS_DESCRIPTION\u0027,\u0027COUPON_CODE\u0027,\u0027ID\u0027,\u0027GENDER\u0027,\u0027BIRTH_DATE\u0027,\u0027CREATED_AT\u0027,\u0027VIP\u0027,\u0027ID\u0027,\u0027APPLICATION_USER_ID\u0027,\u0027ADDRESS\u0027,\u0027ACTIVE\u0027,\u0027LAT\u0027,\u0027LNG\u0027,\u0027DESCRIPTION\u0027,\u0027TAG\u0027,\u0027CITY\u0027]",
      "metadata": {
        "pycharm": {
          "metadata": false,
          "name": "#%%\n",
          "is_executing": false
        }
      }
    },
    {
      "cell_type": "code",
      "execution_count": 3,
      "outputs": [
        {
          "data": {
            "text/plain": "Empty DataFrame\nColumns: [id, created_at, user_id, state, payment_method, total_value, tip, user_gender, user_birth_date, user_vip, address, address_lat, address_lng, address_tag, city]\nIndex: []",
            "text/html": "\u003cdiv\u003e\n\u003cstyle scoped\u003e\n    .dataframe tbody tr th:only-of-type {\n        vertical-align: middle;\n    }\n\n    .dataframe tbody tr th {\n        vertical-align: top;\n    }\n\n    .dataframe thead th {\n        text-align: right;\n    }\n\u003c/style\u003e\n\u003ctable border\u003d\"1\" class\u003d\"dataframe\"\u003e\n  \u003cthead\u003e\n    \u003ctr style\u003d\"text-align: right;\"\u003e\n      \u003cth\u003e\u003c/th\u003e\n      \u003cth\u003eid\u003c/th\u003e\n      \u003cth\u003ecreated_at\u003c/th\u003e\n      \u003cth\u003euser_id\u003c/th\u003e\n      \u003cth\u003estate\u003c/th\u003e\n      \u003cth\u003epayment_method\u003c/th\u003e\n      \u003cth\u003etotal_value\u003c/th\u003e\n      \u003cth\u003etip\u003c/th\u003e\n      \u003cth\u003euser_gender\u003c/th\u003e\n      \u003cth\u003euser_birth_date\u003c/th\u003e\n      \u003cth\u003euser_vip\u003c/th\u003e\n      \u003cth\u003eaddress\u003c/th\u003e\n      \u003cth\u003eaddress_lat\u003c/th\u003e\n      \u003cth\u003eaddress_lng\u003c/th\u003e\n      \u003cth\u003eaddress_tag\u003c/th\u003e\n      \u003cth\u003ecity\u003c/th\u003e\n    \u003c/tr\u003e\n  \u003c/thead\u003e\n  \u003ctbody\u003e\n  \u003c/tbody\u003e\n\u003c/table\u003e\n\u003c/div\u003e"
          },
          "metadata": {},
          "output_type": "execute_result",
          "execution_count": 3
        }
      ],
      "source": "orders_clean \u003d pd.DataFrame(columns\u003d[\u0027id\u0027, \u0027created_at\u0027, \u0027user_id\u0027, \u0027state\u0027, \u0027payment_method\u0027, \u0027total_value\u0027, \u0027tip\u0027, \u0027user_gender\u0027, \u0027user_birth_date\u0027, \u0027user_vip\u0027, \u0027address\u0027, \u0027address_lat\u0027, \u0027address_lng\u0027, \u0027address_tag\u0027, \u0027city\u0027])\norders_clean",
      "metadata": {
        "pycharm": {
          "metadata": false,
          "name": "#%%\n",
          "is_executing": false
        }
      }
    },
    {
      "cell_type": "code",
      "execution_count": 4,
      "outputs": [
        {
          "name": "stderr",
          "text": [
            "/Users/icaboalo/Documents/CMU/Projects/FirstProject/venv/lib/python3.7/site-packages/IPython/core/interactiveshell.py:3057: DtypeWarning: Columns (9,55,65,84) have mixed types. Specify dtype option on import or set low_memory\u003dFalse.\n  interactivity\u003dinteractivity, compiler\u003dcompiler, result\u003dresult)\n",
            "/Users/icaboalo/Documents/CMU/Projects/FirstProject/venv/lib/python3.7/site-packages/IPython/core/interactiveshell.py:3057: DtypeWarning: Columns (7,9,10,16,17,18,29,38,39,40,44,45,52,55,63,65,67,84,85) have mixed types. Specify dtype option on import or set low_memory\u003dFalse.\n  interactivity\u003dinteractivity, compiler\u003dcompiler, result\u003dresult)\n",
            "/Users/icaboalo/Documents/CMU/Projects/FirstProject/venv/lib/python3.7/site-packages/IPython/core/interactiveshell.py:3057: DtypeWarning: Columns (9,23,24,36,42,46,50,55,57,59,65,66,67,77,84,89) have mixed types. Specify dtype option on import or set low_memory\u003dFalse.\n  interactivity\u003dinteractivity, compiler\u003dcompiler, result\u003dresult)\n",
            "/Users/icaboalo/Documents/CMU/Projects/FirstProject/venv/lib/python3.7/site-packages/IPython/core/interactiveshell.py:3057: DtypeWarning: Columns (9,55,65,67) have mixed types. Specify dtype option on import or set low_memory\u003dFalse.\n  interactivity\u003dinteractivity, compiler\u003dcompiler, result\u003dresult)\n",
            "/Users/icaboalo/Documents/CMU/Projects/FirstProject/venv/lib/python3.7/site-packages/IPython/core/interactiveshell.py:3057: DtypeWarning: Columns (9,10,44,45,52,55,63,65,84,85) have mixed types. Specify dtype option on import or set low_memory\u003dFalse.\n  interactivity\u003dinteractivity, compiler\u003dcompiler, result\u003dresult)\n",
            "/Users/icaboalo/Documents/CMU/Projects/FirstProject/venv/lib/python3.7/site-packages/IPython/core/interactiveshell.py:3057: DtypeWarning: Columns (9,55,65,85) have mixed types. Specify dtype option on import or set low_memory\u003dFalse.\n  interactivity\u003dinteractivity, compiler\u003dcompiler, result\u003dresult)\n",
            "/Users/icaboalo/Documents/CMU/Projects/FirstProject/venv/lib/python3.7/site-packages/IPython/core/interactiveshell.py:3057: DtypeWarning: Columns (9,17,55,63,65,84,85) have mixed types. Specify dtype option on import or set low_memory\u003dFalse.\n  interactivity\u003dinteractivity, compiler\u003dcompiler, result\u003dresult)\n",
            "/Users/icaboalo/Documents/CMU/Projects/FirstProject/venv/lib/python3.7/site-packages/IPython/core/interactiveshell.py:3057: DtypeWarning: Columns (9,21,39,40,55,65,85) have mixed types. Specify dtype option on import or set low_memory\u003dFalse.\n  interactivity\u003dinteractivity, compiler\u003dcompiler, result\u003dresult)\n",
            "/Users/icaboalo/Documents/CMU/Projects/FirstProject/venv/lib/python3.7/site-packages/IPython/core/interactiveshell.py:3057: DtypeWarning: Columns (9,38,55,65) have mixed types. Specify dtype option on import or set low_memory\u003dFalse.\n  interactivity\u003dinteractivity, compiler\u003dcompiler, result\u003dresult)\n",
            "/Users/icaboalo/Documents/CMU/Projects/FirstProject/venv/lib/python3.7/site-packages/IPython/core/interactiveshell.py:3057: DtypeWarning: Columns (9,55,65) have mixed types. Specify dtype option on import or set low_memory\u003dFalse.\n  interactivity\u003dinteractivity, compiler\u003dcompiler, result\u003dresult)\n",
            "/Users/icaboalo/Documents/CMU/Projects/FirstProject/venv/lib/python3.7/site-packages/IPython/core/interactiveshell.py:3057: DtypeWarning: Columns (65) have mixed types. Specify dtype option on import or set low_memory\u003dFalse.\n  interactivity\u003dinteractivity, compiler\u003dcompiler, result\u003dresult)\n"
          ],
          "output_type": "stream"
        },
        {
          "data": {
            "text/plain": "         id                     created_at    user_id              state  \\\n0  33203864  2019-06-15 21:23:06.000000000  254744117     pending_review   \n1  31336949  2019-06-05 18:12:13.000000000  254744117           finished   \n2  33223369  2019-06-15 22:53:16.000000000  276032685  canceled_by_fraud   \n3  33223421  2019-06-15 22:53:37.000000000  276032685  canceled_by_fraud   \n4  33223802  2019-06-15 22:56:26.000000000  276032685  canceled_by_fraud   \n\n  payment_method  total_value   tip user_gender user_birth_date user_vip  \\\n0           cash         58.0  10.0           F      2003-01-03    False   \n1           cash        278.0  10.0           F      2003-01-03    False   \n2             cc        170.0  10.0         NaN             NaN    False   \n3             cc        170.0  10.0         NaN             NaN    False   \n4             cc        170.0  10.0         NaN             NaN    False   \n\n                address  address_lat  address_lng address_tag city  \n0           Tezonapa 70    19.481800   -99.181312        Casa  NaN  \n1    Calle Michoacan 25    19.485422   -99.176678        Casa  NaN  \n2  Laguna De Mayran 375    19.440181   -99.177057        Casa  NaN  \n3  Laguna De Mayran 375    19.440181   -99.177057        Casa  NaN  \n4  Laguna De Mayran 375    19.440181   -99.177057        Casa  NaN  ",
            "text/html": "\u003cdiv\u003e\n\u003cstyle scoped\u003e\n    .dataframe tbody tr th:only-of-type {\n        vertical-align: middle;\n    }\n\n    .dataframe tbody tr th {\n        vertical-align: top;\n    }\n\n    .dataframe thead th {\n        text-align: right;\n    }\n\u003c/style\u003e\n\u003ctable border\u003d\"1\" class\u003d\"dataframe\"\u003e\n  \u003cthead\u003e\n    \u003ctr style\u003d\"text-align: right;\"\u003e\n      \u003cth\u003e\u003c/th\u003e\n      \u003cth\u003eid\u003c/th\u003e\n      \u003cth\u003ecreated_at\u003c/th\u003e\n      \u003cth\u003euser_id\u003c/th\u003e\n      \u003cth\u003estate\u003c/th\u003e\n      \u003cth\u003epayment_method\u003c/th\u003e\n      \u003cth\u003etotal_value\u003c/th\u003e\n      \u003cth\u003etip\u003c/th\u003e\n      \u003cth\u003euser_gender\u003c/th\u003e\n      \u003cth\u003euser_birth_date\u003c/th\u003e\n      \u003cth\u003euser_vip\u003c/th\u003e\n      \u003cth\u003eaddress\u003c/th\u003e\n      \u003cth\u003eaddress_lat\u003c/th\u003e\n      \u003cth\u003eaddress_lng\u003c/th\u003e\n      \u003cth\u003eaddress_tag\u003c/th\u003e\n      \u003cth\u003ecity\u003c/th\u003e\n    \u003c/tr\u003e\n  \u003c/thead\u003e\n  \u003ctbody\u003e\n    \u003ctr\u003e\n      \u003cth\u003e0\u003c/th\u003e\n      \u003ctd\u003e33203864\u003c/td\u003e\n      \u003ctd\u003e2019-06-15 21:23:06.000000000\u003c/td\u003e\n      \u003ctd\u003e254744117\u003c/td\u003e\n      \u003ctd\u003epending_review\u003c/td\u003e\n      \u003ctd\u003ecash\u003c/td\u003e\n      \u003ctd\u003e58.0\u003c/td\u003e\n      \u003ctd\u003e10.0\u003c/td\u003e\n      \u003ctd\u003eF\u003c/td\u003e\n      \u003ctd\u003e2003-01-03\u003c/td\u003e\n      \u003ctd\u003eFalse\u003c/td\u003e\n      \u003ctd\u003eTezonapa 70\u003c/td\u003e\n      \u003ctd\u003e19.481800\u003c/td\u003e\n      \u003ctd\u003e-99.181312\u003c/td\u003e\n      \u003ctd\u003eCasa\u003c/td\u003e\n      \u003ctd\u003eNaN\u003c/td\u003e\n    \u003c/tr\u003e\n    \u003ctr\u003e\n      \u003cth\u003e1\u003c/th\u003e\n      \u003ctd\u003e31336949\u003c/td\u003e\n      \u003ctd\u003e2019-06-05 18:12:13.000000000\u003c/td\u003e\n      \u003ctd\u003e254744117\u003c/td\u003e\n      \u003ctd\u003efinished\u003c/td\u003e\n      \u003ctd\u003ecash\u003c/td\u003e\n      \u003ctd\u003e278.0\u003c/td\u003e\n      \u003ctd\u003e10.0\u003c/td\u003e\n      \u003ctd\u003eF\u003c/td\u003e\n      \u003ctd\u003e2003-01-03\u003c/td\u003e\n      \u003ctd\u003eFalse\u003c/td\u003e\n      \u003ctd\u003eCalle Michoacan 25\u003c/td\u003e\n      \u003ctd\u003e19.485422\u003c/td\u003e\n      \u003ctd\u003e-99.176678\u003c/td\u003e\n      \u003ctd\u003eCasa\u003c/td\u003e\n      \u003ctd\u003eNaN\u003c/td\u003e\n    \u003c/tr\u003e\n    \u003ctr\u003e\n      \u003cth\u003e2\u003c/th\u003e\n      \u003ctd\u003e33223369\u003c/td\u003e\n      \u003ctd\u003e2019-06-15 22:53:16.000000000\u003c/td\u003e\n      \u003ctd\u003e276032685\u003c/td\u003e\n      \u003ctd\u003ecanceled_by_fraud\u003c/td\u003e\n      \u003ctd\u003ecc\u003c/td\u003e\n      \u003ctd\u003e170.0\u003c/td\u003e\n      \u003ctd\u003e10.0\u003c/td\u003e\n      \u003ctd\u003eNaN\u003c/td\u003e\n      \u003ctd\u003eNaN\u003c/td\u003e\n      \u003ctd\u003eFalse\u003c/td\u003e\n      \u003ctd\u003eLaguna De Mayran 375\u003c/td\u003e\n      \u003ctd\u003e19.440181\u003c/td\u003e\n      \u003ctd\u003e-99.177057\u003c/td\u003e\n      \u003ctd\u003eCasa\u003c/td\u003e\n      \u003ctd\u003eNaN\u003c/td\u003e\n    \u003c/tr\u003e\n    \u003ctr\u003e\n      \u003cth\u003e3\u003c/th\u003e\n      \u003ctd\u003e33223421\u003c/td\u003e\n      \u003ctd\u003e2019-06-15 22:53:37.000000000\u003c/td\u003e\n      \u003ctd\u003e276032685\u003c/td\u003e\n      \u003ctd\u003ecanceled_by_fraud\u003c/td\u003e\n      \u003ctd\u003ecc\u003c/td\u003e\n      \u003ctd\u003e170.0\u003c/td\u003e\n      \u003ctd\u003e10.0\u003c/td\u003e\n      \u003ctd\u003eNaN\u003c/td\u003e\n      \u003ctd\u003eNaN\u003c/td\u003e\n      \u003ctd\u003eFalse\u003c/td\u003e\n      \u003ctd\u003eLaguna De Mayran 375\u003c/td\u003e\n      \u003ctd\u003e19.440181\u003c/td\u003e\n      \u003ctd\u003e-99.177057\u003c/td\u003e\n      \u003ctd\u003eCasa\u003c/td\u003e\n      \u003ctd\u003eNaN\u003c/td\u003e\n    \u003c/tr\u003e\n    \u003ctr\u003e\n      \u003cth\u003e4\u003c/th\u003e\n      \u003ctd\u003e33223802\u003c/td\u003e\n      \u003ctd\u003e2019-06-15 22:56:26.000000000\u003c/td\u003e\n      \u003ctd\u003e276032685\u003c/td\u003e\n      \u003ctd\u003ecanceled_by_fraud\u003c/td\u003e\n      \u003ctd\u003ecc\u003c/td\u003e\n      \u003ctd\u003e170.0\u003c/td\u003e\n      \u003ctd\u003e10.0\u003c/td\u003e\n      \u003ctd\u003eNaN\u003c/td\u003e\n      \u003ctd\u003eNaN\u003c/td\u003e\n      \u003ctd\u003eFalse\u003c/td\u003e\n      \u003ctd\u003eLaguna De Mayran 375\u003c/td\u003e\n      \u003ctd\u003e19.440181\u003c/td\u003e\n      \u003ctd\u003e-99.177057\u003c/td\u003e\n      \u003ctd\u003eCasa\u003c/td\u003e\n      \u003ctd\u003eNaN\u003c/td\u003e\n    \u003c/tr\u003e\n  \u003c/tbody\u003e\n\u003c/table\u003e\n\u003c/div\u003e"
          },
          "metadata": {},
          "output_type": "execute_result",
          "execution_count": 4
        }
      ],
      "source": "for order in orders:\n    order.columns\u003d[\u0027ID\u0027,\u0027APPLICATION_USER_ID\u0027,\u0027STOREKEEPER_ID\u0027,\u0027STATE\u0027,\u0027PAYMENT_METHOD\u0027,\u0027TOTAL_VALUE\u0027,\u0027TIP\u0027,\u0027ETA_STARTS_AT\u0027,\u0027ETA\u0027,\u0027COMMENT\u0027,\u0027WHIM\u0027,\u0027CREATED_AT\u0027,\u0027UPDATED_AT\u0027,\u0027SIGNATURE_PIC\u0027,\u0027ADDRESS_ID\u0027,\u0027ADDRESS_DESCRIPTION\u0027,\u0027TAKED_AT\u0027,\u0027COUPON_CODE\u0027,\u0027CLOSED_AT\u0027,\u0027PURCHASE_TYPE\u0027,\u0027DELIVERYBOY_ID\u0027,\u0027PLACE_AT\u0027,\u0027CMS_ZONE_ID\u0027,\u0027EXPEDITER_ID\u0027,\u0027STORE_TO_USER_ETA\u0027,\u0027COOKING_TIME\u0027,\u0027SPLIT_ID\u0027,\u0027EXITO_ID\u0027,\u0027WHIM_STORE_ID\u0027,\u0027COOKING_TIME_STARTED_AT\u0027,\u0027FRAUD_STATUS\u0027,\u0027MIN_EARNING\u0027,\u0027INIT_ETA\u0027,\u0027ASSIGNMENT_TIME\u0027,\u0027TIME_IN_STORE\u0027,\u0027TRAVEL_TIME\u0027,\u0027ORDER_RELEASED\u0027,\u0027LEVEL_EARNING\u0027,\u0027INIT_TIME\u0027,\u0027PLACE_AT_UTC\u0027,\u0027TIME_ZONE\u0027,\u0027_FIVETRAN_SYNCED\u0027,\u0027_FIVETRAN_DELETED\u0027,\u0027ID.1\u0027,\u0027GENDER\u0027,\u0027BIRTH_DATE\u0027,\u0027_FIVETRAN_DELETED\u0027,\u0027IDENTIFICATION_TYPE\u0027,\u0027CREATED_AT.1\u0027,\u0027EXITO_ID\u0027,\u0027PAYPAL_BLOCKED\u0027,\u0027REFERED_CODE\u0027,\u0027REPLACEMENT_CRITERIA_ID\u0027,\u0027PASSWORD\u0027,\u0027_FIVETRAN_SYNCED\u0027,\u0027IDENTIFICATION\u0027,\u0027UPDATED_AT\u0027,\u0027BLOCKED\u0027,\u0027INSTALLMENTS\u0027,\u0027VIP\u0027,\u0027FIRST_NAME\u0027,\u0027STATUS_FRAUD\u0027,\u0027DEVICE_ID\u0027,\u0027PROFILE_PIC\u0027,\u0027LAST_NAME\u0027,\u0027IS_PHONE_CONFIRMED\u0027,\u0027CC_BLOCKED\u0027,\u0027DEFAULT_CC\u0027,\u0027DELETED_AT\u0027,\u0027COUNTRY_CODE\u0027,\u0027SOCIAL_PROVIDER\u0027,\u0027EXITO_LOYALTY_TYPE\u0027,\u0027APPLICATION\u0027,\u0027LAST_PUSH_CUSTOM\u0027,\u0027ID.2\u0027,\u0027APPLICATION_USER_ID.1\u0027,\u0027ADDRESS\u0027,\u0027ACTIVE\u0027,\u0027LAT\u0027,\u0027LNG\u0027,\u0027DESCRIPTION\u0027,\u0027TAG\u0027,\u0027CREATED_AT.2\u0027,\u0027UPDATED_AT\u0027,\u0027DELETED_AT\u0027,\u0027CITY\u0027,\u0027COUNTRY\u0027,\u0027MICRO_ZONE_ID\u0027,\u0027_FIVETRAN_SYNCED\u0027,\u0027_FIVETRAN_DELETED\u0027,\u0027ZIP_CODE\u0027,\u0027CITY_ADDRESS_ID\u0027]\n    temp_order \u003d pd.DataFrame(columns\u003d[\u0027id\u0027, \u0027created_at\u0027, \u0027user_id\u0027, \u0027state\u0027, \u0027payment_method\u0027, \u0027total_value\u0027, \u0027tip\u0027, \u0027user_gender\u0027, \u0027user_birth_date\u0027, \u0027user_vip\u0027, \u0027address\u0027, \u0027address_lat\u0027, \u0027address_lng\u0027, \u0027address_tag\u0027, \u0027city\u0027])\n    temp_order[\u0027id\u0027] \u003d order.ID.apply(lambda v: int(v))\n    temp_order[\u0027created_at\u0027] \u003d order.CREATED_AT\n    temp_order[\u0027user_id\u0027] \u003d order.APPLICATION_USER_ID.apply(lambda v: int(v))\n    temp_order[\u0027state\u0027] \u003d order.STATE\n    temp_order[\u0027payment_method\u0027] \u003d order.PAYMENT_METHOD\n    temp_order[\u0027total_value\u0027] \u003d order.TOTAL_VALUE.apply(lambda v: float(v))\n    temp_order[\u0027tip\u0027] \u003d order.TIP.apply(lambda v: float(v))\n    temp_order[\u0027user_gender\u0027] \u003d order.GENDER\n    temp_order[\u0027user_birth_date\u0027] \u003d order.BIRTH_DATE\n    temp_order[\u0027user_vip\u0027] \u003d order.VIP\n    temp_order[\u0027address\u0027] \u003d order.ADDRESS\n    temp_order[\u0027address_lat\u0027] \u003d order.LAT\n    temp_order[\u0027address_lng\u0027] \u003d order.LNG\n    temp_order[\u0027address_tag\u0027] \u003d order.TAG\n    temp_order[\u0027city\u0027] \u003d order.CITY\n    orders_clean \u003d orders_clean.append(temp_order)\norders_clean.head()",
      "metadata": {
        "pycharm": {
          "metadata": false,
          "name": "#%%\n",
          "is_executing": false
        }
      }
    },
    {
      "cell_type": "code",
      "execution_count": 5,
      "outputs": [],
      "source": "with open(\u0027out/orders-clean.csv\u0027, \u0027w\u0027) as file:  \n    file.write(orders_clean.to_csv(index\u003dFalse))",
      "metadata": {
        "pycharm": {
          "metadata": false,
          "name": "#%%\n",
          "is_executing": false
        }
      }
    },
    {
      "cell_type": "code",
      "execution_count": 9,
      "outputs": [
        {
          "name": "stderr",
          "text": [
            "/Users/icaboalo/Documents/CMU/Projects/FirstProject/venv/lib/python3.7/site-packages/IPython/core/interactiveshell.py:3057: DtypeWarning: Columns (9,10,23,24,36,38,42,44,45,46,50,52,55,57,59,63,65,66,67,77,84,85,89) have mixed types. Specify dtype option on import or set low_memory\u003dFalse.\n  interactivity\u003dinteractivity, compiler\u003dcompiler, result\u003dresult)\n"
          ],
          "output_type": "stream"
        },
        {
          "data": {
            "text/plain": "5648289"
          },
          "metadata": {},
          "output_type": "execute_result",
          "execution_count": 9
        }
      ],
      "source": "len(orders_clean)\norders_ \u003d pd.read_csv(\u0027/Users/icaboalo/Desktop/orders_month.csv\u0027)\nlen(orders_)",
      "metadata": {
        "pycharm": {
          "metadata": false,
          "name": "#%%\n",
          "is_executing": false
        }
      }
    },
    {
      "cell_type": "code",
      "execution_count": 10,
      "outputs": [
        {
          "data": {
            "text/plain": "5648289"
          },
          "metadata": {},
          "output_type": "execute_result",
          "execution_count": 10
        }
      ],
      "source": "len(orders_clean)",
      "metadata": {
        "pycharm": {
          "metadata": false,
          "name": "#%%\n",
          "is_executing": false
        }
      }
    }
  ],
  "metadata": {
    "language_info": {
      "codemirror_mode": {
        "name": "ipython",
        "version": 2
      },
      "file_extension": ".py",
      "mimetype": "text/x-python",
      "name": "python",
      "nbconvert_exporter": "python",
      "pygments_lexer": "ipython2",
      "version": "2.7.6"
    },
    "kernelspec": {
      "name": "python3",
      "language": "python",
      "display_name": "Python 3"
    }
  },
  "nbformat": 4,
  "nbformat_minor": 0
}