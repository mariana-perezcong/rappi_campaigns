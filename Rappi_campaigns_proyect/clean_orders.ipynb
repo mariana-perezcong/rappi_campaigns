{
  "cells": [
    {
      "cell_type": "code",
      "execution_count": 6,
      "metadata": {
        "collapsed": true,
        "pycharm": {
          "is_executing": false
        }
      },
      "outputs": [],
      "source": "import pandas as pd\nfrom shapely.geometry import Point\nfrom shapely.geometry.polygon import Polygon\nimport numpy as np\nproject_base \u003d \u0027/Users/icaboalo/Documents/CMU/Projects/FirstProject/\u0027"
    },
    {
      "cell_type": "code",
      "execution_count": 7,
      "outputs": [],
      "source": "orders \u003d pd.read_csv(project_base + \u0027out/orders-clean.csv\u0027, chunksize\u003d500000)\ncdmx \u003d pd.read_csv(project_base + \u0027cdmx_polygon.csv\u0027)\npolanco \u003d pd.read_csv(project_base + \u0027polanco_polygon.csv\u0027)",
      "metadata": {
        "pycharm": {
          "metadata": false,
          "name": "#%%\n",
          "is_executing": false
        }
      }
    },
    {
      "cell_type": "code",
      "execution_count": 8,
      "outputs": [],
      "source": "cdmx_polygon \u003d Polygon(np.column_stack((cdmx.Latitude, cdmx.Longitude)))\npolanco_polygon \u003d Polygon(np.column_stack((polanco.Latitude, polanco.Longitude)))",
      "metadata": {
        "pycharm": {
          "metadata": false,
          "name": "#%%\n",
          "is_executing": false
        }
      }
    },
    {
      "cell_type": "code",
      "execution_count": 9,
      "outputs": [],
      "source": "cdmx_orders \u003d []\npolanco_orders \u003d []\ndef filter_cdmx(order):\n    try:\n        point \u003d Point(order.get(\u0027address_lat\u0027), order.get(\u0027address_lng\u0027))\n        if cdmx_polygon.contains(point) or cdmx_polygon.within(point):\n            cdmx_orders.append(order)\n            filter_polanco(order)\n    except AttributeError:\n        print(\u0027missing data\u0027)\n    except:\n        print(\u0027Error ocurred\u0027)\n    return order\ndef filter_polanco(order):\n    try:\n        point \u003d Point(order.get(\u0027address_lat\u0027), order.get(\u0027address_lng\u0027))\n        if polanco_polygon.contains(point) or polanco_polygon.within(point):\n            polanco_orders.append(order)\n    except AttributeError:\n        print(\u0027missing data\u0027)\n    except:\n        print(\u0027Error ocurred\u0027)\n    return order",
      "metadata": {
        "pycharm": {
          "metadata": false,
          "name": "#%%\n",
          "is_executing": false
        }
      }
    },
    {
      "cell_type": "code",
      "execution_count": 10,
      "outputs": [
        {
          "name": "stdout",
          "text": [
            "cdmx 170109\npolanco 14527\n"
          ],
          "output_type": "stream"
        }
      ],
      "source": "#orders.apply(lambda s: print(s.get(\u0027address_lat\u0027, 0)))\nfor order_batch in orders:\n    order_batch.apply(filter_cdmx, axis\u003d1)\n    print(\u0027cdmx\u0027, len(cdmx_orders))\n    print(\u0027polanco\u0027, len(polanco_orders))",
      "metadata": {
        "pycharm": {
          "metadata": false,
          "name": "#%%\n",
          "is_executing": false
        }
      }
    },
    {
      "cell_type": "code",
      "execution_count": 11,
      "outputs": [],
      "source": "cdmx_df \u003d pd.DataFrame(cdmx_orders[1:], columns\u003d[\u0027id\u0027, \u0027created_at\u0027, \u0027user_id\u0027, \u0027state\u0027, \u0027payment_method\u0027, \u0027total_value\u0027, \u0027tip\u0027, \u0027user_gender\u0027, \u0027user_birth_date\u0027, \u0027user_vip\u0027, \u0027address\u0027, \u0027address_lat\u0027, \u0027address_lng\u0027, \u0027address_tag\u0027, \u0027city\u0027])\nwith open(\u0027out/cdmx-clean.csv\u0027, \u0027w\u0027) as file:  \n    file.write(cdmx_df.to_csv(index\u003dFalse))",
      "metadata": {
        "pycharm": {
          "metadata": false,
          "name": "#%%\n",
          "is_executing": false
        }
      }
    },
    {
      "cell_type": "code",
      "execution_count": 12,
      "outputs": [],
      "source": "polanco_df \u003d pd.DataFrame(polanco_orders, columns\u003d[\u0027id\u0027, \u0027created_at\u0027, \u0027user_id\u0027, \u0027state\u0027, \u0027payment_method\u0027, \u0027total_value\u0027, \u0027tip\u0027, \u0027user_gender\u0027, \u0027user_birth_date\u0027, \u0027user_vip\u0027, \u0027address\u0027, \u0027address_lat\u0027, \u0027address_lng\u0027, \u0027address_tag\u0027, \u0027city\u0027])\nwith open(\u0027out/polanco-clean.csv\u0027, \u0027w\u0027) as file:\n    file.write(polanco_df.to_csv(index\u003dFalse))",
      "metadata": {
        "pycharm": {
          "metadata": false,
          "name": "#%%\n",
          "is_executing": false
        }
      }
    },
    {
      "cell_type": "code",
      "execution_count": null,
      "outputs": [],
      "source": "",
      "metadata": {
        "pycharm": {
          "metadata": false,
          "name": "#%%\n"
        }
      }
    }
  ],
  "metadata": {
    "language_info": {
      "codemirror_mode": {
        "name": "ipython",
        "version": 2
      },
      "file_extension": ".py",
      "mimetype": "text/x-python",
      "name": "python",
      "nbconvert_exporter": "python",
      "pygments_lexer": "ipython2",
      "version": "2.7.6"
    },
    "kernelspec": {
      "name": "python3",
      "language": "python",
      "display_name": "Python 3"
    }
  },
  "nbformat": 4,
  "nbformat_minor": 0
}