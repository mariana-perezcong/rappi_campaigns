{
  "cells": [
    {
      "cell_type": "code",
      "execution_count": 36,
      "metadata": {
        "pycharm": {
          "is_executing": false
        }
      },
      "outputs": [],
      "source": "import pandas as pd"
    },
    {
      "cell_type": "code",
      "execution_count": 37,
      "metadata": {
        "pycharm": {
          "is_executing": false,
          "metadata": false,
          "name": "#%%\n"
        }
      },
      "outputs": [],
      "source": "#campaigns \u003d pd.read_csv(\u0027/Users/icaboalo/Documents/CMU/Projects/FirstProject/campaigns.csv\u0027)\ncampaigns \u003d pd.read_csv(\u0027/Users/icaboalo/Desktop/campaigns_month.csv\u0027, chunksize\u003d500000)"
    },
    {
      "cell_type": "code",
      "execution_count": 38,
      "metadata": {
        "pycharm": {
          "is_executing": false,
          "metadata": false,
          "name": "#%%\n"
        }
      },
      "outputs": [
        {
          "data": {
            "text/plain": "Empty DataFrame\nColumns: [id, campaign_id, user_id, created_at, state, campaign_name, media_type]\nIndex: []",
            "text/html": "\u003cdiv\u003e\n\u003cstyle scoped\u003e\n    .dataframe tbody tr th:only-of-type {\n        vertical-align: middle;\n    }\n\n    .dataframe tbody tr th {\n        vertical-align: top;\n    }\n\n    .dataframe thead th {\n        text-align: right;\n    }\n\u003c/style\u003e\n\u003ctable border\u003d\"1\" class\u003d\"dataframe\"\u003e\n  \u003cthead\u003e\n    \u003ctr style\u003d\"text-align: right;\"\u003e\n      \u003cth\u003e\u003c/th\u003e\n      \u003cth\u003eid\u003c/th\u003e\n      \u003cth\u003ecampaign_id\u003c/th\u003e\n      \u003cth\u003euser_id\u003c/th\u003e\n      \u003cth\u003ecreated_at\u003c/th\u003e\n      \u003cth\u003estate\u003c/th\u003e\n      \u003cth\u003ecampaign_name\u003c/th\u003e\n      \u003cth\u003emedia_type\u003c/th\u003e\n    \u003c/tr\u003e\n  \u003c/thead\u003e\n  \u003ctbody\u003e\n  \u003c/tbody\u003e\n\u003c/table\u003e\n\u003c/div\u003e"
          },
          "metadata": {},
          "output_type": "execute_result",
          "execution_count": 38
        }
      ],
      "source": "campaigns_clean \u003d pd.DataFrame(columns\u003d[\u0027id\u0027, \u0027campaign_id\u0027, \u0027user_id\u0027, \u0027created_at\u0027, \u0027state\u0027, \u0027campaign_name\u0027, \u0027media_type\u0027])\ncampaigns_clean"
    },
    {
      "cell_type": "code",
      "execution_count": 41,
      "outputs": [
        {
          "data": {
            "text/plain": "           id campaign_id    user_id                     created_at    state  \\\n0  1291391012          92  255258230  2019-06-06 13:17:17.000000000  SUCCESS   \n1  1283255891          92  254723727  2019-06-06 12:17:12.000000000  SUCCESS   \n2  1291391144          92  255260633  2019-06-06 13:17:17.000000000  SUCCESS   \n3  1291391156          92  255260937  2019-06-06 13:17:17.000000000  SUCCESS   \n4  1291391240          60  241012930  2019-06-06 13:17:17.000000000  SUCCESS   \n\n          campaign_name media_type  \n0       Comm ACTV4.0 GB        sms  \n1       Comm ACTV4.0 GB        sms  \n2       Comm ACTV4.0 GB        sms  \n3       Comm ACTV4.0 GB        sms  \n4  Comm Push ACTV4.0 SF       push  ",
            "text/html": "\u003cdiv\u003e\n\u003cstyle scoped\u003e\n    .dataframe tbody tr th:only-of-type {\n        vertical-align: middle;\n    }\n\n    .dataframe tbody tr th {\n        vertical-align: top;\n    }\n\n    .dataframe thead th {\n        text-align: right;\n    }\n\u003c/style\u003e\n\u003ctable border\u003d\"1\" class\u003d\"dataframe\"\u003e\n  \u003cthead\u003e\n    \u003ctr style\u003d\"text-align: right;\"\u003e\n      \u003cth\u003e\u003c/th\u003e\n      \u003cth\u003eid\u003c/th\u003e\n      \u003cth\u003ecampaign_id\u003c/th\u003e\n      \u003cth\u003euser_id\u003c/th\u003e\n      \u003cth\u003ecreated_at\u003c/th\u003e\n      \u003cth\u003estate\u003c/th\u003e\n      \u003cth\u003ecampaign_name\u003c/th\u003e\n      \u003cth\u003emedia_type\u003c/th\u003e\n    \u003c/tr\u003e\n  \u003c/thead\u003e\n  \u003ctbody\u003e\n    \u003ctr\u003e\n      \u003cth\u003e0\u003c/th\u003e\n      \u003ctd\u003e1291391012\u003c/td\u003e\n      \u003ctd\u003e92\u003c/td\u003e\n      \u003ctd\u003e255258230\u003c/td\u003e\n      \u003ctd\u003e2019-06-06 13:17:17.000000000\u003c/td\u003e\n      \u003ctd\u003eSUCCESS\u003c/td\u003e\n      \u003ctd\u003eComm ACTV4.0 GB\u003c/td\u003e\n      \u003ctd\u003esms\u003c/td\u003e\n    \u003c/tr\u003e\n    \u003ctr\u003e\n      \u003cth\u003e1\u003c/th\u003e\n      \u003ctd\u003e1283255891\u003c/td\u003e\n      \u003ctd\u003e92\u003c/td\u003e\n      \u003ctd\u003e254723727\u003c/td\u003e\n      \u003ctd\u003e2019-06-06 12:17:12.000000000\u003c/td\u003e\n      \u003ctd\u003eSUCCESS\u003c/td\u003e\n      \u003ctd\u003eComm ACTV4.0 GB\u003c/td\u003e\n      \u003ctd\u003esms\u003c/td\u003e\n    \u003c/tr\u003e\n    \u003ctr\u003e\n      \u003cth\u003e2\u003c/th\u003e\n      \u003ctd\u003e1291391144\u003c/td\u003e\n      \u003ctd\u003e92\u003c/td\u003e\n      \u003ctd\u003e255260633\u003c/td\u003e\n      \u003ctd\u003e2019-06-06 13:17:17.000000000\u003c/td\u003e\n      \u003ctd\u003eSUCCESS\u003c/td\u003e\n      \u003ctd\u003eComm ACTV4.0 GB\u003c/td\u003e\n      \u003ctd\u003esms\u003c/td\u003e\n    \u003c/tr\u003e\n    \u003ctr\u003e\n      \u003cth\u003e3\u003c/th\u003e\n      \u003ctd\u003e1291391156\u003c/td\u003e\n      \u003ctd\u003e92\u003c/td\u003e\n      \u003ctd\u003e255260937\u003c/td\u003e\n      \u003ctd\u003e2019-06-06 13:17:17.000000000\u003c/td\u003e\n      \u003ctd\u003eSUCCESS\u003c/td\u003e\n      \u003ctd\u003eComm ACTV4.0 GB\u003c/td\u003e\n      \u003ctd\u003esms\u003c/td\u003e\n    \u003c/tr\u003e\n    \u003ctr\u003e\n      \u003cth\u003e4\u003c/th\u003e\n      \u003ctd\u003e1291391240\u003c/td\u003e\n      \u003ctd\u003e60\u003c/td\u003e\n      \u003ctd\u003e241012930\u003c/td\u003e\n      \u003ctd\u003e2019-06-06 13:17:17.000000000\u003c/td\u003e\n      \u003ctd\u003eSUCCESS\u003c/td\u003e\n      \u003ctd\u003eComm Push ACTV4.0 SF\u003c/td\u003e\n      \u003ctd\u003epush\u003c/td\u003e\n    \u003c/tr\u003e\n  \u003c/tbody\u003e\n\u003c/table\u003e\n\u003c/div\u003e"
          },
          "metadata": {},
          "output_type": "execute_result",
          "execution_count": 41
        }
      ],
      "source": "for campaign_batch in campaigns:\n    temp_campaign \u003d pd.DataFrame(columns\u003dcampaigns_clean.columns)\n    temp_campaign[\u0027id\u0027] \u003d campaign_batch.ID.apply(lambda v: int(v))\n    temp_campaign[\u0027campaign_id\u0027] \u003d campaign_batch.CAMPAIGN_ID.apply(lambda v: int(v))\n    temp_campaign[\u0027user_id\u0027] \u003d campaign_batch.USER_ID.apply(lambda v: int(str(v).strip().lower()\n                                                                          .replace(\u0027mx_\u0027, \u0027\u0027)\n                                                                          .replace(\u0027co_\u0027, \u0027\u0027)\n                                                                          .replace(\u0027ar_\u0027, \u0027\u0027)\n                                                                          .replace(\u0027cl_\u0027, \u0027\u0027)\n                                                                          .replace(\u0027uy_\u0027, \u0027\u0027)\n                                                                          .replace(\u0027pe_\u0027, \u0027\u0027)\n                                                                          .replace(\u0027br_\u0027, \u0027\u0027)\n                                                                          ))\n    temp_campaign[\u0027created_at\u0027] \u003d campaign_batch.CREATED_AT\n    temp_campaign[\u0027state\u0027] \u003d campaign_batch.STATE\n    temp_campaign[\u0027campaign_name\u0027] \u003d campaign_batch.NAME\n    temp_campaign[\u0027media_type\u0027] \u003d campaign_batch[\u0027ID.3\u0027].apply(lambda v: \u0027sms\u0027 if v \u003d\u003d 1 else \u0027push\u0027)\n    campaigns_clean \u003d campaigns_clean.append(temp_campaign)\ncampaigns_clean.head()",
      "metadata": {
        "pycharm": {
          "metadata": false,
          "name": "#%%\n",
          "is_executing": false
        }
      }
    },
    {
      "cell_type": "code",
      "execution_count": 47,
      "outputs": [
        {
          "data": {
            "text/plain": "           id campaign_id    user_id                     created_at    state  \\\n0  1291391012          92  255258230  2019-06-06 13:17:17.000000000  SUCCESS   \n1  1283255891          92  254723727  2019-06-06 12:17:12.000000000  SUCCESS   \n2  1291391144          92  255260633  2019-06-06 13:17:17.000000000  SUCCESS   \n3  1291391156          92  255260937  2019-06-06 13:17:17.000000000  SUCCESS   \n4  1291391240          60  241012930  2019-06-06 13:17:17.000000000  SUCCESS   \n5  1305968703          79  214002039  2019-06-06 15:15:51.000000000  SUCCESS   \n6  1305968715          79  214005069  2019-06-06 15:15:51.000000000  SUCCESS   \n7  1291391372          92  255262431  2019-06-06 13:17:17.000000000  SUCCESS   \n8  1291391384          60  241017333  2019-06-06 13:17:17.000000000  SUCCESS   \n9  1305968835          79  214028164  2019-06-06 15:15:51.000000000  SUCCESS   \n\n             campaign_name media_type  \n0          Comm ACTV4.0 GB        sms  \n1          Comm ACTV4.0 GB        sms  \n2          Comm ACTV4.0 GB        sms  \n3          Comm ACTV4.0 GB        sms  \n4     Comm Push ACTV4.0 SF       push  \n5  Comm Push RCTV14 LUNCH        push  \n6  Comm Push RCTV14 LUNCH        push  \n7          Comm ACTV4.0 GB        sms  \n8     Comm Push ACTV4.0 SF       push  \n9  Comm Push RCTV14 LUNCH        push  ",
            "text/html": "\u003cdiv\u003e\n\u003cstyle scoped\u003e\n    .dataframe tbody tr th:only-of-type {\n        vertical-align: middle;\n    }\n\n    .dataframe tbody tr th {\n        vertical-align: top;\n    }\n\n    .dataframe thead th {\n        text-align: right;\n    }\n\u003c/style\u003e\n\u003ctable border\u003d\"1\" class\u003d\"dataframe\"\u003e\n  \u003cthead\u003e\n    \u003ctr style\u003d\"text-align: right;\"\u003e\n      \u003cth\u003e\u003c/th\u003e\n      \u003cth\u003eid\u003c/th\u003e\n      \u003cth\u003ecampaign_id\u003c/th\u003e\n      \u003cth\u003euser_id\u003c/th\u003e\n      \u003cth\u003ecreated_at\u003c/th\u003e\n      \u003cth\u003estate\u003c/th\u003e\n      \u003cth\u003ecampaign_name\u003c/th\u003e\n      \u003cth\u003emedia_type\u003c/th\u003e\n    \u003c/tr\u003e\n  \u003c/thead\u003e\n  \u003ctbody\u003e\n    \u003ctr\u003e\n      \u003cth\u003e0\u003c/th\u003e\n      \u003ctd\u003e1291391012\u003c/td\u003e\n      \u003ctd\u003e92\u003c/td\u003e\n      \u003ctd\u003e255258230\u003c/td\u003e\n      \u003ctd\u003e2019-06-06 13:17:17.000000000\u003c/td\u003e\n      \u003ctd\u003eSUCCESS\u003c/td\u003e\n      \u003ctd\u003eComm ACTV4.0 GB\u003c/td\u003e\n      \u003ctd\u003esms\u003c/td\u003e\n    \u003c/tr\u003e\n    \u003ctr\u003e\n      \u003cth\u003e1\u003c/th\u003e\n      \u003ctd\u003e1283255891\u003c/td\u003e\n      \u003ctd\u003e92\u003c/td\u003e\n      \u003ctd\u003e254723727\u003c/td\u003e\n      \u003ctd\u003e2019-06-06 12:17:12.000000000\u003c/td\u003e\n      \u003ctd\u003eSUCCESS\u003c/td\u003e\n      \u003ctd\u003eComm ACTV4.0 GB\u003c/td\u003e\n      \u003ctd\u003esms\u003c/td\u003e\n    \u003c/tr\u003e\n    \u003ctr\u003e\n      \u003cth\u003e2\u003c/th\u003e\n      \u003ctd\u003e1291391144\u003c/td\u003e\n      \u003ctd\u003e92\u003c/td\u003e\n      \u003ctd\u003e255260633\u003c/td\u003e\n      \u003ctd\u003e2019-06-06 13:17:17.000000000\u003c/td\u003e\n      \u003ctd\u003eSUCCESS\u003c/td\u003e\n      \u003ctd\u003eComm ACTV4.0 GB\u003c/td\u003e\n      \u003ctd\u003esms\u003c/td\u003e\n    \u003c/tr\u003e\n    \u003ctr\u003e\n      \u003cth\u003e3\u003c/th\u003e\n      \u003ctd\u003e1291391156\u003c/td\u003e\n      \u003ctd\u003e92\u003c/td\u003e\n      \u003ctd\u003e255260937\u003c/td\u003e\n      \u003ctd\u003e2019-06-06 13:17:17.000000000\u003c/td\u003e\n      \u003ctd\u003eSUCCESS\u003c/td\u003e\n      \u003ctd\u003eComm ACTV4.0 GB\u003c/td\u003e\n      \u003ctd\u003esms\u003c/td\u003e\n    \u003c/tr\u003e\n    \u003ctr\u003e\n      \u003cth\u003e4\u003c/th\u003e\n      \u003ctd\u003e1291391240\u003c/td\u003e\n      \u003ctd\u003e60\u003c/td\u003e\n      \u003ctd\u003e241012930\u003c/td\u003e\n      \u003ctd\u003e2019-06-06 13:17:17.000000000\u003c/td\u003e\n      \u003ctd\u003eSUCCESS\u003c/td\u003e\n      \u003ctd\u003eComm Push ACTV4.0 SF\u003c/td\u003e\n      \u003ctd\u003epush\u003c/td\u003e\n    \u003c/tr\u003e\n    \u003ctr\u003e\n      \u003cth\u003e5\u003c/th\u003e\n      \u003ctd\u003e1305968703\u003c/td\u003e\n      \u003ctd\u003e79\u003c/td\u003e\n      \u003ctd\u003e214002039\u003c/td\u003e\n      \u003ctd\u003e2019-06-06 15:15:51.000000000\u003c/td\u003e\n      \u003ctd\u003eSUCCESS\u003c/td\u003e\n      \u003ctd\u003eComm Push RCTV14 LUNCH\u003c/td\u003e\n      \u003ctd\u003epush\u003c/td\u003e\n    \u003c/tr\u003e\n    \u003ctr\u003e\n      \u003cth\u003e6\u003c/th\u003e\n      \u003ctd\u003e1305968715\u003c/td\u003e\n      \u003ctd\u003e79\u003c/td\u003e\n      \u003ctd\u003e214005069\u003c/td\u003e\n      \u003ctd\u003e2019-06-06 15:15:51.000000000\u003c/td\u003e\n      \u003ctd\u003eSUCCESS\u003c/td\u003e\n      \u003ctd\u003eComm Push RCTV14 LUNCH\u003c/td\u003e\n      \u003ctd\u003epush\u003c/td\u003e\n    \u003c/tr\u003e\n    \u003ctr\u003e\n      \u003cth\u003e7\u003c/th\u003e\n      \u003ctd\u003e1291391372\u003c/td\u003e\n      \u003ctd\u003e92\u003c/td\u003e\n      \u003ctd\u003e255262431\u003c/td\u003e\n      \u003ctd\u003e2019-06-06 13:17:17.000000000\u003c/td\u003e\n      \u003ctd\u003eSUCCESS\u003c/td\u003e\n      \u003ctd\u003eComm ACTV4.0 GB\u003c/td\u003e\n      \u003ctd\u003esms\u003c/td\u003e\n    \u003c/tr\u003e\n    \u003ctr\u003e\n      \u003cth\u003e8\u003c/th\u003e\n      \u003ctd\u003e1291391384\u003c/td\u003e\n      \u003ctd\u003e60\u003c/td\u003e\n      \u003ctd\u003e241017333\u003c/td\u003e\n      \u003ctd\u003e2019-06-06 13:17:17.000000000\u003c/td\u003e\n      \u003ctd\u003eSUCCESS\u003c/td\u003e\n      \u003ctd\u003eComm Push ACTV4.0 SF\u003c/td\u003e\n      \u003ctd\u003epush\u003c/td\u003e\n    \u003c/tr\u003e\n    \u003ctr\u003e\n      \u003cth\u003e9\u003c/th\u003e\n      \u003ctd\u003e1305968835\u003c/td\u003e\n      \u003ctd\u003e79\u003c/td\u003e\n      \u003ctd\u003e214028164\u003c/td\u003e\n      \u003ctd\u003e2019-06-06 15:15:51.000000000\u003c/td\u003e\n      \u003ctd\u003eSUCCESS\u003c/td\u003e\n      \u003ctd\u003eComm Push RCTV14 LUNCH\u003c/td\u003e\n      \u003ctd\u003epush\u003c/td\u003e\n    \u003c/tr\u003e\n  \u003c/tbody\u003e\n\u003c/table\u003e\n\u003c/div\u003e"
          },
          "metadata": {},
          "output_type": "execute_result",
          "execution_count": 47
        }
      ],
      "source": "campaigns_clean[0:10]",
      "metadata": {
        "pycharm": {
          "metadata": false,
          "name": "#%%\n",
          "is_executing": false
        }
      }
    },
    {
      "cell_type": "code",
      "execution_count": 48,
      "metadata": {
        "pycharm": {
          "is_executing": false,
          "metadata": false,
          "name": "#%%\n"
        }
      },
      "outputs": [],
      "source": "with open(\u0027out/campaigns-clean.csv\u0027, \u0027w\u0027) as file:  \n    start \u003d 0\n    end \u003d 1000000\n    for x in range(0, len(campaigns_clean), 1000000):\n        file.write(campaigns_clean[x:end].to_csv(index\u003dFalse, header\u003dx\u003d\u003d0))\n        end +\u003d 1000000\n"
    }
  ],
  "metadata": {
    "kernelspec": {
      "display_name": "Python 3",
      "language": "python",
      "name": "python3"
    },
    "language_info": {
      "codemirror_mode": {
        "name": "ipython",
        "version": 3
      },
      "file_extension": ".py",
      "mimetype": "text/x-python",
      "name": "python",
      "nbconvert_exporter": "python",
      "pygments_lexer": "ipython3",
      "version": "3.7.0"
    }
  },
  "nbformat": 4,
  "nbformat_minor": 1
}