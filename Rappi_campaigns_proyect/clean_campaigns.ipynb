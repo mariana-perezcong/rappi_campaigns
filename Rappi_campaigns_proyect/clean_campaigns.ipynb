{
  "cells": [
    {
      "cell_type": "code",
      "execution_count": 2,
      "metadata": {
        "collapsed": true,
        "pycharm": {
          "is_executing": false
        }
      },
      "outputs": [],
      "source": "import pandas as pd\nproject_base \u003d \u0027/Users/icaboalo/Documents/CMU/Projects/FirstProject/\u0027"
    },
    {
      "cell_type": "code",
      "execution_count": 3,
      "outputs": [],
      "source": "campaigns \u003d pd.read_csv(project_base + \u0027out/campaigns-clean.csv\u0027)",
      "metadata": {
        "pycharm": {
          "metadata": false,
          "name": "#%%\n",
          "is_executing": false
        }
      }
    },
    {
      "cell_type": "code",
      "execution_count": 9,
      "outputs": [
        {
          "data": {
            "text/plain": "           id  campaign_id    user_id                     created_at    state  \\\n0  1291391012           92  255258230  2019-06-06 13:17:17.000000000  SUCCESS   \n1  1283255891           92  254723727  2019-06-06 12:17:12.000000000  SUCCESS   \n2  1291391144           92  255260633  2019-06-06 13:17:17.000000000  SUCCESS   \n3  1291391156           92  255260937  2019-06-06 13:17:17.000000000  SUCCESS   \n4  1291391240           60  241012930  2019-06-06 13:17:17.000000000  SUCCESS   \n\n          campaign_name media_type  \n0       Comm ACTV4.0 GB        sms  \n1       Comm ACTV4.0 GB        sms  \n2       Comm ACTV4.0 GB        sms  \n3       Comm ACTV4.0 GB        sms  \n4  Comm Push ACTV4.0 SF       push  ",
            "text/html": "\u003cdiv\u003e\n\u003cstyle scoped\u003e\n    .dataframe tbody tr th:only-of-type {\n        vertical-align: middle;\n    }\n\n    .dataframe tbody tr th {\n        vertical-align: top;\n    }\n\n    .dataframe thead th {\n        text-align: right;\n    }\n\u003c/style\u003e\n\u003ctable border\u003d\"1\" class\u003d\"dataframe\"\u003e\n  \u003cthead\u003e\n    \u003ctr style\u003d\"text-align: right;\"\u003e\n      \u003cth\u003e\u003c/th\u003e\n      \u003cth\u003eid\u003c/th\u003e\n      \u003cth\u003ecampaign_id\u003c/th\u003e\n      \u003cth\u003euser_id\u003c/th\u003e\n      \u003cth\u003ecreated_at\u003c/th\u003e\n      \u003cth\u003estate\u003c/th\u003e\n      \u003cth\u003ecampaign_name\u003c/th\u003e\n      \u003cth\u003emedia_type\u003c/th\u003e\n    \u003c/tr\u003e\n  \u003c/thead\u003e\n  \u003ctbody\u003e\n    \u003ctr\u003e\n      \u003cth\u003e0\u003c/th\u003e\n      \u003ctd\u003e1291391012\u003c/td\u003e\n      \u003ctd\u003e92\u003c/td\u003e\n      \u003ctd\u003e255258230\u003c/td\u003e\n      \u003ctd\u003e2019-06-06 13:17:17.000000000\u003c/td\u003e\n      \u003ctd\u003eSUCCESS\u003c/td\u003e\n      \u003ctd\u003eComm ACTV4.0 GB\u003c/td\u003e\n      \u003ctd\u003esms\u003c/td\u003e\n    \u003c/tr\u003e\n    \u003ctr\u003e\n      \u003cth\u003e1\u003c/th\u003e\n      \u003ctd\u003e1283255891\u003c/td\u003e\n      \u003ctd\u003e92\u003c/td\u003e\n      \u003ctd\u003e254723727\u003c/td\u003e\n      \u003ctd\u003e2019-06-06 12:17:12.000000000\u003c/td\u003e\n      \u003ctd\u003eSUCCESS\u003c/td\u003e\n      \u003ctd\u003eComm ACTV4.0 GB\u003c/td\u003e\n      \u003ctd\u003esms\u003c/td\u003e\n    \u003c/tr\u003e\n    \u003ctr\u003e\n      \u003cth\u003e2\u003c/th\u003e\n      \u003ctd\u003e1291391144\u003c/td\u003e\n      \u003ctd\u003e92\u003c/td\u003e\n      \u003ctd\u003e255260633\u003c/td\u003e\n      \u003ctd\u003e2019-06-06 13:17:17.000000000\u003c/td\u003e\n      \u003ctd\u003eSUCCESS\u003c/td\u003e\n      \u003ctd\u003eComm ACTV4.0 GB\u003c/td\u003e\n      \u003ctd\u003esms\u003c/td\u003e\n    \u003c/tr\u003e\n    \u003ctr\u003e\n      \u003cth\u003e3\u003c/th\u003e\n      \u003ctd\u003e1291391156\u003c/td\u003e\n      \u003ctd\u003e92\u003c/td\u003e\n      \u003ctd\u003e255260937\u003c/td\u003e\n      \u003ctd\u003e2019-06-06 13:17:17.000000000\u003c/td\u003e\n      \u003ctd\u003eSUCCESS\u003c/td\u003e\n      \u003ctd\u003eComm ACTV4.0 GB\u003c/td\u003e\n      \u003ctd\u003esms\u003c/td\u003e\n    \u003c/tr\u003e\n    \u003ctr\u003e\n      \u003cth\u003e4\u003c/th\u003e\n      \u003ctd\u003e1291391240\u003c/td\u003e\n      \u003ctd\u003e60\u003c/td\u003e\n      \u003ctd\u003e241012930\u003c/td\u003e\n      \u003ctd\u003e2019-06-06 13:17:17.000000000\u003c/td\u003e\n      \u003ctd\u003eSUCCESS\u003c/td\u003e\n      \u003ctd\u003eComm Push ACTV4.0 SF\u003c/td\u003e\n      \u003ctd\u003epush\u003c/td\u003e\n    \u003c/tr\u003e\n  \u003c/tbody\u003e\n\u003c/table\u003e\n\u003c/div\u003e"
          },
          "metadata": {},
          "output_type": "execute_result",
          "execution_count": 9
        }
      ],
      "source": "campaigns.user_id \u003d campaigns.user_id.apply(lambda v: int(v.strip().lower().replace(\u0027mx_\u0027, \u0027\u0027)))\ncampaigns.head()",
      "metadata": {
        "pycharm": {
          "metadata": false,
          "name": "#%%\n",
          "is_executing": false
        }
      }
    }
  ],
  "metadata": {
    "language_info": {
      "codemirror_mode": {
        "name": "ipython",
        "version": 2
      },
      "file_extension": ".py",
      "mimetype": "text/x-python",
      "name": "python",
      "nbconvert_exporter": "python",
      "pygments_lexer": "ipython2",
      "version": "2.7.6"
    },
    "kernelspec": {
      "name": "python3",
      "language": "python",
      "display_name": "Python 3"
    }
  },
  "nbformat": 4,
  "nbformat_minor": 0
}